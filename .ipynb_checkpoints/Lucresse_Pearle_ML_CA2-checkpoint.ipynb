{
 "cells": [
  {
   "cell_type": "markdown",
   "id": "0cda6ea0",
   "metadata": {},
   "source": [
    "# CCT College Dublin \n",
    "\n",
    "## Module Title: \n",
    "Machine Learning for AI\n",
    "## Assessment Title\n",
    "ML_CA2\n",
    "## Lecturer Name:\n",
    "David McQuaid\n",
    "## Student Full Name/ID:\n",
    "Lucresse Pearle Tchatchoua Mbakop – 2021404\n",
    "## Assessment Due Date:\n",
    "31th May 2024 23:59\n",
    "## Date of Submission:\n",
    "\n",
    "\n",
    "### Declaration \t\t\t\n",
    "By submitting this assessment, I confirm that I have read the CCT policy on Academic Misconduct and understand the implications of submitting work that is not my own or does not appropriately reference material taken from a third party or other source. I declare it to be my own work and that all material from third parties has been appropriately referenced. I further confirm that this work has not previously been submitted for assessment by myself or someone else in CCT College Dublin or any other higher education institution.\n",
    "\n",
    "### Github Link\n",
    "https://github.com/LucressePearle/LucressePearle_ML_CA2"
   ]
  },
  {
   "cell_type": "code",
   "execution_count": 2,
   "id": "54d75246",
   "metadata": {},
   "outputs": [],
   "source": [
    "import  pandas as pd \n",
    "import numpy as np\n",
    "import matplotlib.pyplot as plt\n",
    "import seaborn as sns"
   ]
  },
  {
   "cell_type": "markdown",
   "id": "c1bafe78",
   "metadata": {},
   "source": [
    "# PART 1: Neural Networks\n",
    "I start by loading my dataset provided in Moodle named \"BankRecords.csv\"."
   ]
  },
  {
   "cell_type": "code",
   "execution_count": 3,
   "id": "6aab1be6",
   "metadata": {},
   "outputs": [
    {
     "data": {
      "text/html": [
       "<div>\n",
       "<style scoped>\n",
       "    .dataframe tbody tr th:only-of-type {\n",
       "        vertical-align: middle;\n",
       "    }\n",
       "\n",
       "    .dataframe tbody tr th {\n",
       "        vertical-align: top;\n",
       "    }\n",
       "\n",
       "    .dataframe thead th {\n",
       "        text-align: right;\n",
       "    }\n",
       "</style>\n",
       "<table border=\"1\" class=\"dataframe\">\n",
       "  <thead>\n",
       "    <tr style=\"text-align: right;\">\n",
       "      <th></th>\n",
       "      <th>ID</th>\n",
       "      <th>Age</th>\n",
       "      <th>Experience(Years)</th>\n",
       "      <th>Income(Thousands's)</th>\n",
       "      <th>Sort Code</th>\n",
       "      <th>Family</th>\n",
       "      <th>Credit Score</th>\n",
       "      <th>Education</th>\n",
       "      <th>Mortgage(Thousands's)</th>\n",
       "      <th>Personal Loan</th>\n",
       "      <th>Securities Account</th>\n",
       "      <th>CD Account</th>\n",
       "      <th>Online Banking</th>\n",
       "      <th>CreditCard</th>\n",
       "    </tr>\n",
       "  </thead>\n",
       "  <tbody>\n",
       "    <tr>\n",
       "      <th>0</th>\n",
       "      <td>1</td>\n",
       "      <td>25</td>\n",
       "      <td>1</td>\n",
       "      <td>49</td>\n",
       "      <td>91107</td>\n",
       "      <td>4</td>\n",
       "      <td>1.6</td>\n",
       "      <td>Diploma</td>\n",
       "      <td>0</td>\n",
       "      <td>No</td>\n",
       "      <td>Yes</td>\n",
       "      <td>No</td>\n",
       "      <td>No</td>\n",
       "      <td>No</td>\n",
       "    </tr>\n",
       "    <tr>\n",
       "      <th>1</th>\n",
       "      <td>2</td>\n",
       "      <td>45</td>\n",
       "      <td>19</td>\n",
       "      <td>34</td>\n",
       "      <td>90089</td>\n",
       "      <td>3</td>\n",
       "      <td>1.5</td>\n",
       "      <td>Diploma</td>\n",
       "      <td>0</td>\n",
       "      <td>No</td>\n",
       "      <td>Yes</td>\n",
       "      <td>No</td>\n",
       "      <td>No</td>\n",
       "      <td>No</td>\n",
       "    </tr>\n",
       "    <tr>\n",
       "      <th>2</th>\n",
       "      <td>3</td>\n",
       "      <td>39</td>\n",
       "      <td>15</td>\n",
       "      <td>11</td>\n",
       "      <td>94720</td>\n",
       "      <td>1</td>\n",
       "      <td>1.0</td>\n",
       "      <td>Diploma</td>\n",
       "      <td>0</td>\n",
       "      <td>No</td>\n",
       "      <td>No</td>\n",
       "      <td>No</td>\n",
       "      <td>No</td>\n",
       "      <td>No</td>\n",
       "    </tr>\n",
       "    <tr>\n",
       "      <th>3</th>\n",
       "      <td>4</td>\n",
       "      <td>35</td>\n",
       "      <td>9</td>\n",
       "      <td>100</td>\n",
       "      <td>94112</td>\n",
       "      <td>1</td>\n",
       "      <td>2.7</td>\n",
       "      <td>Degree</td>\n",
       "      <td>0</td>\n",
       "      <td>No</td>\n",
       "      <td>No</td>\n",
       "      <td>No</td>\n",
       "      <td>No</td>\n",
       "      <td>No</td>\n",
       "    </tr>\n",
       "    <tr>\n",
       "      <th>4</th>\n",
       "      <td>5</td>\n",
       "      <td>35</td>\n",
       "      <td>8</td>\n",
       "      <td>45</td>\n",
       "      <td>91330</td>\n",
       "      <td>4</td>\n",
       "      <td>1.0</td>\n",
       "      <td>Degree</td>\n",
       "      <td>0</td>\n",
       "      <td>No</td>\n",
       "      <td>No</td>\n",
       "      <td>No</td>\n",
       "      <td>No</td>\n",
       "      <td>Yes</td>\n",
       "    </tr>\n",
       "    <tr>\n",
       "      <th>...</th>\n",
       "      <td>...</td>\n",
       "      <td>...</td>\n",
       "      <td>...</td>\n",
       "      <td>...</td>\n",
       "      <td>...</td>\n",
       "      <td>...</td>\n",
       "      <td>...</td>\n",
       "      <td>...</td>\n",
       "      <td>...</td>\n",
       "      <td>...</td>\n",
       "      <td>...</td>\n",
       "      <td>...</td>\n",
       "      <td>...</td>\n",
       "      <td>...</td>\n",
       "    </tr>\n",
       "    <tr>\n",
       "      <th>4995</th>\n",
       "      <td>4996</td>\n",
       "      <td>29</td>\n",
       "      <td>3</td>\n",
       "      <td>40</td>\n",
       "      <td>92697</td>\n",
       "      <td>1</td>\n",
       "      <td>1.9</td>\n",
       "      <td>Masters</td>\n",
       "      <td>0</td>\n",
       "      <td>No</td>\n",
       "      <td>No</td>\n",
       "      <td>No</td>\n",
       "      <td>Yes</td>\n",
       "      <td>No</td>\n",
       "    </tr>\n",
       "    <tr>\n",
       "      <th>4996</th>\n",
       "      <td>4997</td>\n",
       "      <td>30</td>\n",
       "      <td>4</td>\n",
       "      <td>15</td>\n",
       "      <td>92037</td>\n",
       "      <td>4</td>\n",
       "      <td>0.4</td>\n",
       "      <td>Diploma</td>\n",
       "      <td>85</td>\n",
       "      <td>No</td>\n",
       "      <td>No</td>\n",
       "      <td>No</td>\n",
       "      <td>Yes</td>\n",
       "      <td>No</td>\n",
       "    </tr>\n",
       "    <tr>\n",
       "      <th>4997</th>\n",
       "      <td>4998</td>\n",
       "      <td>63</td>\n",
       "      <td>39</td>\n",
       "      <td>24</td>\n",
       "      <td>93023</td>\n",
       "      <td>2</td>\n",
       "      <td>0.3</td>\n",
       "      <td>Masters</td>\n",
       "      <td>0</td>\n",
       "      <td>No</td>\n",
       "      <td>No</td>\n",
       "      <td>No</td>\n",
       "      <td>No</td>\n",
       "      <td>No</td>\n",
       "    </tr>\n",
       "    <tr>\n",
       "      <th>4998</th>\n",
       "      <td>4999</td>\n",
       "      <td>65</td>\n",
       "      <td>40</td>\n",
       "      <td>49</td>\n",
       "      <td>90034</td>\n",
       "      <td>3</td>\n",
       "      <td>0.5</td>\n",
       "      <td>Degree</td>\n",
       "      <td>0</td>\n",
       "      <td>No</td>\n",
       "      <td>No</td>\n",
       "      <td>No</td>\n",
       "      <td>Yes</td>\n",
       "      <td>No</td>\n",
       "    </tr>\n",
       "    <tr>\n",
       "      <th>4999</th>\n",
       "      <td>5000</td>\n",
       "      <td>28</td>\n",
       "      <td>4</td>\n",
       "      <td>83</td>\n",
       "      <td>92612</td>\n",
       "      <td>3</td>\n",
       "      <td>0.8</td>\n",
       "      <td>Diploma</td>\n",
       "      <td>0</td>\n",
       "      <td>No</td>\n",
       "      <td>No</td>\n",
       "      <td>No</td>\n",
       "      <td>Yes</td>\n",
       "      <td>Yes</td>\n",
       "    </tr>\n",
       "  </tbody>\n",
       "</table>\n",
       "<p>5000 rows × 14 columns</p>\n",
       "</div>"
      ],
      "text/plain": [
       "        ID  Age  Experience(Years)  Income(Thousands's)  Sort Code  Family  \\\n",
       "0        1   25                  1                   49      91107       4   \n",
       "1        2   45                 19                   34      90089       3   \n",
       "2        3   39                 15                   11      94720       1   \n",
       "3        4   35                  9                  100      94112       1   \n",
       "4        5   35                  8                   45      91330       4   \n",
       "...    ...  ...                ...                  ...        ...     ...   \n",
       "4995  4996   29                  3                   40      92697       1   \n",
       "4996  4997   30                  4                   15      92037       4   \n",
       "4997  4998   63                 39                   24      93023       2   \n",
       "4998  4999   65                 40                   49      90034       3   \n",
       "4999  5000   28                  4                   83      92612       3   \n",
       "\n",
       "      Credit Score Education  Mortgage(Thousands's) Personal Loan  \\\n",
       "0              1.6   Diploma                      0            No   \n",
       "1              1.5   Diploma                      0            No   \n",
       "2              1.0   Diploma                      0            No   \n",
       "3              2.7    Degree                      0            No   \n",
       "4              1.0    Degree                      0            No   \n",
       "...            ...       ...                    ...           ...   \n",
       "4995           1.9   Masters                      0            No   \n",
       "4996           0.4   Diploma                     85            No   \n",
       "4997           0.3   Masters                      0            No   \n",
       "4998           0.5    Degree                      0            No   \n",
       "4999           0.8   Diploma                      0            No   \n",
       "\n",
       "     Securities Account CD Account Online Banking CreditCard  \n",
       "0                   Yes         No             No         No  \n",
       "1                   Yes         No             No         No  \n",
       "2                    No         No             No         No  \n",
       "3                    No         No             No         No  \n",
       "4                    No         No             No        Yes  \n",
       "...                 ...        ...            ...        ...  \n",
       "4995                 No         No            Yes         No  \n",
       "4996                 No         No            Yes         No  \n",
       "4997                 No         No             No         No  \n",
       "4998                 No         No            Yes         No  \n",
       "4999                 No         No            Yes        Yes  \n",
       "\n",
       "[5000 rows x 14 columns]"
      ]
     },
     "metadata": {},
     "output_type": "display_data"
    }
   ],
   "source": [
    "#reading the dataset\n",
    "bank_df = pd.read_csv(\"BankRecords.csv\")\n",
    "display(bank_df)"
   ]
  },
  {
   "cell_type": "markdown",
   "id": "336bf8e3",
   "metadata": {},
   "source": [
    "## Data understanding\n",
    "in this phase of our project, we are exploring the dataset with aim to undercover useful information"
   ]
  },
  {
   "cell_type": "code",
   "execution_count": 23,
   "id": "7a84001d",
   "metadata": {},
   "outputs": [
    {
     "data": {
      "text/plain": [
       "ID                       5000\n",
       "Age                        45\n",
       "Experience(Years)          44\n",
       "Income(Thousands's)       162\n",
       "Sort Code                 467\n",
       "Family                      4\n",
       "Credit Score              108\n",
       "Education                   3\n",
       "Mortgage(Thousands's)     347\n",
       "Personal Loan               2\n",
       "Securities Account          2\n",
       "CD Account                  2\n",
       "Online Banking              2\n",
       "CreditCard                  2\n",
       "dtype: int64"
      ]
     },
     "execution_count": 23,
     "metadata": {},
     "output_type": "execute_result"
    }
   ],
   "source": [
    "bank_df.nunique()"
   ]
  },
  {
   "cell_type": "code",
   "execution_count": 4,
   "id": "227b5c6c",
   "metadata": {},
   "outputs": [
    {
     "name": "stdout",
     "output_type": "stream",
     "text": [
      "<class 'pandas.core.frame.DataFrame'>\n",
      "RangeIndex: 5000 entries, 0 to 4999\n",
      "Data columns (total 14 columns):\n",
      " #   Column                 Non-Null Count  Dtype  \n",
      "---  ------                 --------------  -----  \n",
      " 0   ID                     5000 non-null   int64  \n",
      " 1   Age                    5000 non-null   int64  \n",
      " 2   Experience(Years)      5000 non-null   int64  \n",
      " 3   Income(Thousands's)    5000 non-null   int64  \n",
      " 4   Sort Code              5000 non-null   int64  \n",
      " 5   Family                 5000 non-null   int64  \n",
      " 6   Credit Score           5000 non-null   float64\n",
      " 7   Education              5000 non-null   object \n",
      " 8   Mortgage(Thousands's)  5000 non-null   int64  \n",
      " 9   Personal Loan          5000 non-null   object \n",
      " 10  Securities Account     5000 non-null   object \n",
      " 11  CD Account             5000 non-null   object \n",
      " 12  Online Banking         5000 non-null   object \n",
      " 13  CreditCard             5000 non-null   object \n",
      "dtypes: float64(1), int64(7), object(6)\n",
      "memory usage: 547.0+ KB\n"
     ]
    }
   ],
   "source": [
    "bank_df.info()"
   ]
  },
  {
   "cell_type": "markdown",
   "id": "eb77d0d9",
   "metadata": {},
   "source": [
    "the information above tell us that the dataset above contains\n",
    "- 08 numerical variables\n",
    "- 06 categorical variables\n",
    "- 14 columns and 5000 rows\n",
    "\n",
    "we move on an implement the \"describe\" function to gain the statistical summary of the numerical variables"
   ]
  },
  {
   "cell_type": "code",
   "execution_count": 5,
   "id": "2428ad7f",
   "metadata": {},
   "outputs": [
    {
     "data": {
      "text/html": [
       "<div>\n",
       "<style scoped>\n",
       "    .dataframe tbody tr th:only-of-type {\n",
       "        vertical-align: middle;\n",
       "    }\n",
       "\n",
       "    .dataframe tbody tr th {\n",
       "        vertical-align: top;\n",
       "    }\n",
       "\n",
       "    .dataframe thead th {\n",
       "        text-align: right;\n",
       "    }\n",
       "</style>\n",
       "<table border=\"1\" class=\"dataframe\">\n",
       "  <thead>\n",
       "    <tr style=\"text-align: right;\">\n",
       "      <th></th>\n",
       "      <th>ID</th>\n",
       "      <th>Age</th>\n",
       "      <th>Experience(Years)</th>\n",
       "      <th>Income(Thousands's)</th>\n",
       "      <th>Sort Code</th>\n",
       "      <th>Family</th>\n",
       "      <th>Credit Score</th>\n",
       "      <th>Mortgage(Thousands's)</th>\n",
       "    </tr>\n",
       "  </thead>\n",
       "  <tbody>\n",
       "    <tr>\n",
       "      <th>count</th>\n",
       "      <td>5000.000000</td>\n",
       "      <td>5000.000000</td>\n",
       "      <td>5000.000000</td>\n",
       "      <td>5000.000000</td>\n",
       "      <td>5000.000000</td>\n",
       "      <td>5000.000000</td>\n",
       "      <td>5000.000000</td>\n",
       "      <td>5000.000000</td>\n",
       "    </tr>\n",
       "    <tr>\n",
       "      <th>mean</th>\n",
       "      <td>2500.500000</td>\n",
       "      <td>45.338400</td>\n",
       "      <td>20.104600</td>\n",
       "      <td>73.774200</td>\n",
       "      <td>93152.503000</td>\n",
       "      <td>2.396400</td>\n",
       "      <td>1.937913</td>\n",
       "      <td>56.498800</td>\n",
       "    </tr>\n",
       "    <tr>\n",
       "      <th>std</th>\n",
       "      <td>1443.520003</td>\n",
       "      <td>11.463166</td>\n",
       "      <td>11.467954</td>\n",
       "      <td>46.033729</td>\n",
       "      <td>2121.852197</td>\n",
       "      <td>1.147663</td>\n",
       "      <td>1.747666</td>\n",
       "      <td>101.713802</td>\n",
       "    </tr>\n",
       "    <tr>\n",
       "      <th>min</th>\n",
       "      <td>1.000000</td>\n",
       "      <td>23.000000</td>\n",
       "      <td>-3.000000</td>\n",
       "      <td>8.000000</td>\n",
       "      <td>9307.000000</td>\n",
       "      <td>1.000000</td>\n",
       "      <td>0.000000</td>\n",
       "      <td>0.000000</td>\n",
       "    </tr>\n",
       "    <tr>\n",
       "      <th>25%</th>\n",
       "      <td>1250.750000</td>\n",
       "      <td>35.000000</td>\n",
       "      <td>10.000000</td>\n",
       "      <td>39.000000</td>\n",
       "      <td>91911.000000</td>\n",
       "      <td>1.000000</td>\n",
       "      <td>0.700000</td>\n",
       "      <td>0.000000</td>\n",
       "    </tr>\n",
       "    <tr>\n",
       "      <th>50%</th>\n",
       "      <td>2500.500000</td>\n",
       "      <td>45.000000</td>\n",
       "      <td>20.000000</td>\n",
       "      <td>64.000000</td>\n",
       "      <td>93437.000000</td>\n",
       "      <td>2.000000</td>\n",
       "      <td>1.500000</td>\n",
       "      <td>0.000000</td>\n",
       "    </tr>\n",
       "    <tr>\n",
       "      <th>75%</th>\n",
       "      <td>3750.250000</td>\n",
       "      <td>55.000000</td>\n",
       "      <td>30.000000</td>\n",
       "      <td>98.000000</td>\n",
       "      <td>94608.000000</td>\n",
       "      <td>3.000000</td>\n",
       "      <td>2.500000</td>\n",
       "      <td>101.000000</td>\n",
       "    </tr>\n",
       "    <tr>\n",
       "      <th>max</th>\n",
       "      <td>5000.000000</td>\n",
       "      <td>67.000000</td>\n",
       "      <td>43.000000</td>\n",
       "      <td>224.000000</td>\n",
       "      <td>96651.000000</td>\n",
       "      <td>4.000000</td>\n",
       "      <td>10.000000</td>\n",
       "      <td>635.000000</td>\n",
       "    </tr>\n",
       "  </tbody>\n",
       "</table>\n",
       "</div>"
      ],
      "text/plain": [
       "                ID          Age  Experience(Years)  Income(Thousands's)  \\\n",
       "count  5000.000000  5000.000000        5000.000000          5000.000000   \n",
       "mean   2500.500000    45.338400          20.104600            73.774200   \n",
       "std    1443.520003    11.463166          11.467954            46.033729   \n",
       "min       1.000000    23.000000          -3.000000             8.000000   \n",
       "25%    1250.750000    35.000000          10.000000            39.000000   \n",
       "50%    2500.500000    45.000000          20.000000            64.000000   \n",
       "75%    3750.250000    55.000000          30.000000            98.000000   \n",
       "max    5000.000000    67.000000          43.000000           224.000000   \n",
       "\n",
       "          Sort Code       Family  Credit Score  Mortgage(Thousands's)  \n",
       "count   5000.000000  5000.000000   5000.000000            5000.000000  \n",
       "mean   93152.503000     2.396400      1.937913              56.498800  \n",
       "std     2121.852197     1.147663      1.747666             101.713802  \n",
       "min     9307.000000     1.000000      0.000000               0.000000  \n",
       "25%    91911.000000     1.000000      0.700000               0.000000  \n",
       "50%    93437.000000     2.000000      1.500000               0.000000  \n",
       "75%    94608.000000     3.000000      2.500000             101.000000  \n",
       "max    96651.000000     4.000000     10.000000             635.000000  "
      ]
     },
     "metadata": {},
     "output_type": "display_data"
    }
   ],
   "source": [
    "stat= bank_df.describe()\n",
    "display(stat)"
   ]
  },
  {
   "cell_type": "markdown",
   "id": "7707fa00",
   "metadata": {},
   "source": [
    "from the above statistical values we can notice that(Venkataramanan 2021):\n",
    "- for the experience variable where the min value is \"-3\" which is logically impossible.\n",
    "- the age, income variables seem to have wide spread data points meaning that that they are variance between the standard deviation and the mean\n",
    "- we can also notice the high difference between the std and mean of the mortgage variable , also with a 25th percentile being 0 and meadian 0 but the 75th percentile being 101 shows that the most of the customer do not have mortgage (we can explore in the future the age range of people with mortgage).\n"
   ]
  },
  {
   "cell_type": "markdown",
   "id": "80979f0a",
   "metadata": {},
   "source": [
    "Now i am going to explore the categorical variables "
   ]
  },
  {
   "cell_type": "code",
   "execution_count": 7,
   "id": "70d727e1",
   "metadata": {},
   "outputs": [
    {
     "data": {
      "text/html": [
       "<div>\n",
       "<style scoped>\n",
       "    .dataframe tbody tr th:only-of-type {\n",
       "        vertical-align: middle;\n",
       "    }\n",
       "\n",
       "    .dataframe tbody tr th {\n",
       "        vertical-align: top;\n",
       "    }\n",
       "\n",
       "    .dataframe thead th {\n",
       "        text-align: right;\n",
       "    }\n",
       "</style>\n",
       "<table border=\"1\" class=\"dataframe\">\n",
       "  <thead>\n",
       "    <tr style=\"text-align: right;\">\n",
       "      <th></th>\n",
       "      <th>Education</th>\n",
       "      <th>Personal Loan</th>\n",
       "      <th>Securities Account</th>\n",
       "      <th>CD Account</th>\n",
       "      <th>Online Banking</th>\n",
       "      <th>CreditCard</th>\n",
       "    </tr>\n",
       "  </thead>\n",
       "  <tbody>\n",
       "    <tr>\n",
       "      <th>count</th>\n",
       "      <td>5000</td>\n",
       "      <td>5000</td>\n",
       "      <td>5000</td>\n",
       "      <td>5000</td>\n",
       "      <td>5000</td>\n",
       "      <td>5000</td>\n",
       "    </tr>\n",
       "    <tr>\n",
       "      <th>unique</th>\n",
       "      <td>3</td>\n",
       "      <td>2</td>\n",
       "      <td>2</td>\n",
       "      <td>2</td>\n",
       "      <td>2</td>\n",
       "      <td>2</td>\n",
       "    </tr>\n",
       "    <tr>\n",
       "      <th>top</th>\n",
       "      <td>Diploma</td>\n",
       "      <td>No</td>\n",
       "      <td>No</td>\n",
       "      <td>No</td>\n",
       "      <td>Yes</td>\n",
       "      <td>No</td>\n",
       "    </tr>\n",
       "    <tr>\n",
       "      <th>freq</th>\n",
       "      <td>2096</td>\n",
       "      <td>4520</td>\n",
       "      <td>4478</td>\n",
       "      <td>4698</td>\n",
       "      <td>2984</td>\n",
       "      <td>3530</td>\n",
       "    </tr>\n",
       "  </tbody>\n",
       "</table>\n",
       "</div>"
      ],
      "text/plain": [
       "       Education Personal Loan Securities Account CD Account Online Banking  \\\n",
       "count       5000          5000               5000       5000           5000   \n",
       "unique         3             2                  2          2              2   \n",
       "top      Diploma            No                 No         No            Yes   \n",
       "freq        2096          4520               4478       4698           2984   \n",
       "\n",
       "       CreditCard  \n",
       "count        5000  \n",
       "unique          2  \n",
       "top            No  \n",
       "freq         3530  "
      ]
     },
     "metadata": {},
     "output_type": "display_data"
    }
   ],
   "source": [
    "stat_cat= bank_df.describe(include=object)\n",
    "display(stat_cat)"
   ]
  },
  {
   "cell_type": "markdown",
   "id": "9cc690a3",
   "metadata": {},
   "source": [
    "from the above we can notice that each variable have\n",
    "- 2 to 3 unique entries, this will be helpful in the encoding process of my variables.\n",
    "- the most frequent unique outcomes are displayed in the \"top\"\n",
    "- and most customer do not have personal loan or credit card due to the high frequency of NO "
   ]
  },
  {
   "cell_type": "code",
   "execution_count": 12,
   "id": "e9eae98e",
   "metadata": {},
   "outputs": [
    {
     "data": {
      "image/png": "[encoded data removed]",
      "text/plain": [
       "<Figure size 1200x1200 with 9 Axes>"
      ]
     },
     "metadata": {},
     "output_type": "display_data"
    }
   ],
   "source": [
    "bank_df.hist(sharex=False, sharey=False, xlabelsize=1, ylabelsize=1, figsize=(12,12))\n",
    "plt.show()"
   ]
  },
  {
   "cell_type": "markdown",
   "id": "a1385796",
   "metadata": {},
   "source": [
    "we will not be evaluating the ID and sort Code graph because they are unique identifier, the sort code in the banking industry is use to identify the branch of the bank the customer belongs to.\n",
    " From the Histogram above i can notice that age and experience seems to be symmetric compared to income, credit score and mortgage variables that seems to have a right-skewed distribution."
   ]
  },
  {
   "cell_type": "markdown",
   "id": "4b2fa6d8",
   "metadata": {},
   "source": [
    "## Data preparation\n",
    "in this data processing phase, i will evaluate the quality of my data by identifying missing values, outliers and handling categorical variables.\n",
    "### Data cleaning"
   ]
  },
  {
   "cell_type": "code",
   "execution_count": 17,
   "id": "4f12c8bc",
   "metadata": {},
   "outputs": [
    {
     "data": {
      "text/plain": [
       "ID                       False\n",
       "Age                      False\n",
       "Experience(Years)        False\n",
       "Income(Thousands's)      False\n",
       "Sort Code                False\n",
       "Family                   False\n",
       "Credit Score             False\n",
       "Education                False\n",
       "Mortgage(Thousands's)    False\n",
       "Personal Loan            False\n",
       "Securities Account       False\n",
       "CD Account               False\n",
       "Online Banking           False\n",
       "CreditCard               False\n",
       "dtype: bool"
      ]
     },
     "metadata": {},
     "output_type": "display_data"
    }
   ],
   "source": [
    "missing_values = bank_df.isnull().any()\n",
    "display(missing_values)"
   ]
  },
  {
   "cell_type": "markdown",
   "id": "6dd10d7c",
   "metadata": {},
   "source": [
    "we can see that the dataset has no missing values, we will then check if it contains negative values"
   ]
  },
  {
   "cell_type": "code",
   "execution_count": 18,
   "id": "94f2e213",
   "metadata": {},
   "outputs": [
    {
     "data": {
      "text/plain": [
       "ID                        0\n",
       "Age                       0\n",
       "Experience(Years)        52\n",
       "Income(Thousands's)       0\n",
       "Sort Code                 0\n",
       "Family                    0\n",
       "Credit Score              0\n",
       "Mortgage(Thousands's)     0\n",
       "dtype: int64"
      ]
     },
     "metadata": {},
     "output_type": "display_data"
    }
   ],
   "source": [
    "negative_values = (bank_df.select_dtypes(include=[float, int]) < 0).sum()\n",
    "display(negative_values)\n"
   ]
  },
  {
   "cell_type": "markdown",
   "id": "08b0e140",
   "metadata": {},
   "source": [
    "our data seems to have 52 negatives values in the experience(years) variable which is not possible cause we can not have negative years of experience. To handle that we are going to replace the negative values with their absolute value"
   ]
  },
  {
   "cell_type": "code",
   "execution_count": 20,
   "id": "02d3813e",
   "metadata": {},
   "outputs": [
    {
     "data": {
      "text/plain": [
       "ID                       0\n",
       "Age                      0\n",
       "Experience(Years)        0\n",
       "Income(Thousands's)      0\n",
       "Sort Code                0\n",
       "Family                   0\n",
       "Credit Score             0\n",
       "Mortgage(Thousands's)    0\n",
       "dtype: int64"
      ]
     },
     "metadata": {},
     "output_type": "display_data"
    }
   ],
   "source": [
    "bank_df['Experience(Years)']= bank_df['Experience(Years)'].abs()\n",
    "negative_values_2 = (bank_df.select_dtypes(include=[float, int]) < 0).sum()\n",
    "display(negative_values_2)"
   ]
  },
  {
   "cell_type": "markdown",
   "id": "81b29950",
   "metadata": {},
   "source": [
    "for further analysis , we will identify the count of zero values in each coulumns\n"
   ]
  },
  {
   "cell_type": "code",
   "execution_count": 24,
   "id": "7faf00a1",
   "metadata": {},
   "outputs": [
    {
     "data": {
      "text/plain": [
       "ID                          0\n",
       "Age                         0\n",
       "Experience(Years)          66\n",
       "Income(Thousands's)         0\n",
       "Sort Code                   0\n",
       "Family                      0\n",
       "Credit Score              106\n",
       "Education                   0\n",
       "Mortgage(Thousands's)    3462\n",
       "Personal Loan               0\n",
       "Securities Account          0\n",
       "CD Account                  0\n",
       "Online Banking              0\n",
       "CreditCard                  0\n",
       "dtype: int64"
      ]
     },
     "metadata": {},
     "output_type": "display_data"
    }
   ],
   "source": [
    "zero_col =(bank_df == 0).sum()\n",
    "display(zero_col)"
   ]
  },
  {
   "cell_type": "markdown",
   "id": "de3f002d",
   "metadata": {},
   "source": [
    "## Outliers\n",
    "in this step , we will identify and handle the outliers. Here we will not be working withe sort code and the id"
   ]
  },
  {
   "cell_type": "code",
   "execution_count": 25,
   "id": "cce4b542",
   "metadata": {},
   "outputs": [
    {
     "name": "stdout",
     "output_type": "stream",
     "text": [
      "Number of outliers in each column:\n",
      "Age                        0\n",
      "Experience(Years)          0\n",
      "Income(Thousands's)       96\n",
      "Family                     0\n",
      "Credit Score             324\n",
      "Mortgage(Thousands's)    291\n",
      "dtype: int64\n"
     ]
    }
   ],
   "source": [
    "#\n",
    "outliers_col= bank_df[[\"Age\",\"Experience(Years)\",\"Income(Thousands's)\",\"Family\",\"Credit Score\",\"Mortgage(Thousands's)\"]] \n",
    "# defining the  quartiles \n",
    "Q1 = outliers_col.quantile(0.25)\n",
    "Q3 = outliers_col.quantile(0.75)\n",
    "IQR = Q3 - Q1\n",
    "# setting the threshold for outliers\n",
    "threshold = 1.5\n",
    "outliers = (outliers_col< (Q1 - threshold * IQR)) | (outliers_col > (Q3 + threshold * IQR))\n",
    "# Count the number of outliers in each column\n",
    "outliers_counting = outliers.sum()\n",
    "print(\"Number of outliers in each column:\")\n",
    "print(outliers_counting)"
   ]
  },
  {
   "cell_type": "markdown",
   "id": "aa602ad1",
   "metadata": {},
   "source": [
    "how are we going to handle this outliers? in our case the outliers in the mortgage variable could be a usefull noice in our dataset cause not everyone has a mortgage.\n",
    "For the moment we will not handle them and see how they work with the models before changing."
   ]
  },
  {
   "cell_type": "code",
   "execution_count": null,
   "id": "aa3d8ac6",
   "metadata": {},
   "outputs": [],
   "source": []
  }
 ],
 "metadata": {
  "kernelspec": {
   "display_name": "Python 3 (ipykernel)",
   "language": "python",
   "name": "python3"
  },
  "language_info": {
   "codemirror_mode": {
    "name": "ipython",
    "version": 3
   },
   "file_extension": ".py",
   "mimetype": "text/x-python",
   "name": "python",
   "nbconvert_exporter": "python",
   "pygments_lexer": "ipython3",
   "version": "3.10.9"
  }
 },
 "nbformat": 4,
 "nbformat_minor": 5
}
